{
 "cells": [
  {
   "cell_type": "markdown",
   "metadata": {},
   "source": [
    "<h1>Part 2 ‑ Experiment and metrics design</h1>\n",
    "<p><b>INTRO: </b>The neighboring cities of Gotham and Metropolis have complementary circadian rhythms: on\n",
    "weekdays, Ultimate Gotham is most active at night, and Ultimate Metropolis is most active\n",
    "during the day. On weekends, there is reasonable activity in both cities.\n",
    "<br /><br />However, a toll bridge, with a two­way toll, between the two cities causes driver partners to tend\n",
    "to be exclusive to each city. The Ultimate managers of city operations for the two cities have\n",
    "proposed an experiment to encourage driver partners to be available in both cities, by\n",
    "reimbursing all toll costs.</p>"
   ]
  },
  {
   "cell_type": "markdown",
   "metadata": {},
   "source": [
    "<p><b>1. What would you choose as the key measure of success of this experiment in\n",
    "encouraging driver partners to serve both cities, and why would you choose this metric?</b></p>\n",
    "<p>The definition of \"driver-partners\" is not clear enough in this context. It's important to understand its nature from the beginning, so we can simplify what type of society/organizations we are targetting with this experiment. It could be a big organization, or regular people, or both. \n",
    "\n",
    "Nevertheless, I will assume that the main subject (target) here is usual taxi drivers (including any type of Taxi organization). From this point, it will be reasonable to say that weekends are the best time to measure the data differences (collecting necessary information) because it's the most profitable period when people are tending to travel. This assumption is based on information I collected from my friends who had experience with this type of business. \n",
    "\n",
    "The most easiest and less cost-efficient way to do so is to use the existing technologies. For example, we can take a look at E-ZPass (an electronic toll collection system). So, using that we can collect 'logs' of how many times the driver crossed the bridge. At this point, we could see a clear picture of the availability of 'partner drivers' in both cities. To see the difference (in data) and make the assumption (if the experiment is successful) we need to collect information before the experiment and within it. \n",
    "\n",
    "The key to success in this experiment will be the number of times (on average) 'partner drivers' crossed the bridge during the weekends. If it is more than it was before the innovation was applied by at least 15% (because we need to cover the cost of loss of reimbursement) then the experiment could be considered successful. So, we can notify the local governments to implement it permanently. \n",
    "Important to remember that we should remember that our experiment should exclude any 'possible' types of unusual 'traffic behavior' that are caused by many reasons: weather, holidays, or other events. We do not want to make the wrong conclusion at the end.</p>"
   ]
  },
  {
   "cell_type": "markdown",
   "metadata": {},
   "source": [
    "<p><b>2. Describe a practical experiment you would design to compare the effectiveness of the\n",
    "proposed change in relation to the key measure of success. Please provide details on:</b>\n",
    "<br />a. how you will implement the experiment\n",
    "<br />b. what statistical test(s) you will conduct to verify the significance of the\n",
    "observation\n",
    "<br />c. how you would interpret the results and provide recommendations to the city\n",
    "operations team along with any caveats.</p>\n",
    "<br /><p>Once we collected our data we are ready to proceed to the next step. One of the approaches that could solve this task is the ' frequentist approach'. It's the approach most often used by A/B testing software. Basically, a Frequentist method makes predictions on the underlying truths of the experiment using only data from the current experiment.\n",
    "\n",
    "As a reminder, the distribution of sample statistics approaches a normal distribution as 'n' (number of samples) increases (based on the Central Limit Theorem). It also applies to the non-normal distribution of data. it's important to remember because hypothesis testing heavily relies on making conclusions about such sample statistics. As we mention we will be applying the frequencies (parametric) test to answer the existing question. Assuming that our collected data is normally distributed.\n",
    "\n",
    "Stating the null hypothesis:\n",
    "<br />H0: Applying the reimbursement program will increase the availability of 'partner drivers' in both cities during the weekends.\n",
    "<br />H1: The availability will stay the same despite the innovation.\n",
    "\n",
    "Collecting data: using 't-test' for the difference between means and 't-test' statistics. Once we got answers we can see if the distribution of our samples is the same. \n",
    "To proceed to hypotheses testing we should obtain the sample size of both experiments. Also, we need 'std' (standard deviations) and means.  Then apply all the info to 'from scipy.stats import ttest_ind_from_stats' we can get 'statistic' and 'p_value'. If 'p-value' is less than 'threshold' (like 0.05) then there is enough evidence to reject 'H0-hypothesis' or state it otherwise. Once we got our results we can inform the city operations team. </p>"
   ]
  },
  {
   "cell_type": "code",
   "execution_count": null,
   "metadata": {},
   "outputs": [],
   "source": []
  }
 ],
 "metadata": {
  "kernelspec": {
   "display_name": "Python 3",
   "language": "python",
   "name": "python3"
  },
  "language_info": {
   "codemirror_mode": {
    "name": "ipython",
    "version": 3
   },
   "file_extension": ".py",
   "mimetype": "text/x-python",
   "name": "python",
   "nbconvert_exporter": "python",
   "pygments_lexer": "ipython3",
   "version": "3.8.5"
  }
 },
 "nbformat": 4,
 "nbformat_minor": 4
}
